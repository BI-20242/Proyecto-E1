{
 "cells": [
  {
   "cell_type": "markdown",
   "id": "d61fae40-50e7-4c0e-bc6a-97532dc643a2",
   "metadata": {
    "id": "d61fae40-50e7-4c0e-bc6a-97532dc643a2"
   },
   "source": [
    "# Carga de datos"
   ]
  },
  {
   "cell_type": "code",
   "execution_count": 2,
   "id": "X-Xka2iV2xp8",
   "metadata": {
    "colab": {
     "base_uri": "https://localhost:8080/"
    },
    "id": "X-Xka2iV2xp8",
    "outputId": "0ed7e5f4-e0d5-4beb-edeb-cd922be804a8"
   },
   "outputs": [
    {
     "name": "stdout",
     "output_type": "stream",
     "text": [
      "Requirement already satisfied: unidecode in /home/sergon/anaconda3/lib/python3.12/site-packages (1.2.0)\n",
      "Requirement already satisfied: nltk in /home/sergon/anaconda3/lib/python3.12/site-packages (3.8.1)\n",
      "Requirement already satisfied: click in /home/sergon/anaconda3/lib/python3.12/site-packages (from nltk) (8.1.7)\n",
      "Requirement already satisfied: joblib in /home/sergon/anaconda3/lib/python3.12/site-packages (from nltk) (1.1.1)\n",
      "Requirement already satisfied: regex>=2021.8.3 in /home/sergon/anaconda3/lib/python3.12/site-packages (from nltk) (2023.10.3)\n",
      "Requirement already satisfied: tqdm in /home/sergon/anaconda3/lib/python3.12/site-packages (from nltk) (4.66.4)\n"
     ]
    },
    {
     "name": "stderr",
     "output_type": "stream",
     "text": [
      "[nltk_data] Downloading package stopwords to /home/sergon/nltk_data...\n",
      "[nltk_data]   Package stopwords is already up-to-date!\n",
      "[nltk_data] Downloading package punkt to /home/sergon/nltk_data...\n",
      "[nltk_data]   Package punkt is already up-to-date!\n",
      "[nltk_data] Downloading package wordnet to /home/sergon/nltk_data...\n",
      "[nltk_data]   Package wordnet is already up-to-date!\n"
     ]
    },
    {
     "data": {
      "text/plain": [
       "True"
      ]
     },
     "execution_count": 2,
     "metadata": {},
     "output_type": "execute_result"
    }
   ],
   "source": [
    "!pip install unidecode\n",
    "!pip install nltk\n",
    "import nltk\n",
    "nltk.download('stopwords')\n",
    "nltk.download('punkt')\n",
    "nltk.download('wordnet')\n"
   ]
  },
  {
   "cell_type": "code",
   "execution_count": 3,
   "id": "1ab8f7b4-839d-41d3-aaaa-d4f2aad5fb1a",
   "metadata": {
    "id": "1ab8f7b4-839d-41d3-aaaa-d4f2aad5fb1a"
   },
   "outputs": [],
   "source": [
    "# Librerías para manejo de datos\n",
    "import pandas as pd\n",
    "pd.set_option('display.max_columns', 25) # Número máximo de columnas a mostrar\n",
    "pd.set_option('display.max_rows', 50) # Numero máximo de filas a mostar\n",
    "import numpy as np\n",
    "np.random.seed(3301)\n",
    "import pandas as pd\n",
    "# Para preparar los datos\n",
    "from sklearn.preprocessing import LabelEncoder\n",
    "# Para crear el arbol de decisión\n",
    "from sklearn.tree import DecisionTreeClassifier\n",
    "# Para usar KNN como clasificador\n",
    "from sklearn.neighbors import KNeighborsClassifier\n",
    "# Para realizar la separación del conjunto de aprendizaje en entrenamiento y test.\n",
    "from sklearn.model_selection import train_test_split\n",
    "# Para evaluar el modelo\n",
    "#from sklearn.metrics import confusion_matrix, classification_report, precision_score, recall_score, f1_score, accuracy_score\n",
    "#from sklearn.metrics import plot_confusion_matrix\n",
    "# Para búsqueda de hiperparámetros\n",
    "from sklearn.model_selection import GridSearchCV\n",
    "# Para la validación cruzada\n",
    "from sklearn.model_selection import KFold\n",
    "#Librerías para la visualización\n",
    "import matplotlib.pyplot as plt\n",
    "# Seaborn\n",
    "import seaborn as sns\n",
    "from sklearn import tree\n",
    "from sklearn.feature_extraction.text import CountVectorizer\n",
    "\n",
    "from sklearn.feature_extraction import text\n",
    "from nltk.corpus import stopwords\n",
    "from wordcloud import WordCloud\n",
    "import unidecode\n",
    "from nltk.tokenize import word_tokenize\n",
    "from nltk.stem import WordNetLemmatizer\n",
    "from sklearn.feature_extraction.text import TfidfVectorizer\n",
    "from sklearn.ensemble import RandomForestClassifier\n",
    "from sklearn.metrics import classification_report, accuracy_score, confusion_matrix\n",
    "import spacy"
   ]
  },
  {
   "cell_type": "code",
   "execution_count": 4,
   "id": "ec856570-1a86-4152-8d1e-030078047a73",
   "metadata": {
    "id": "ec856570-1a86-4152-8d1e-030078047a73"
   },
   "outputs": [],
   "source": [
    "ubi = './data/ODScat_345.xlsx'"
   ]
  },
  {
   "cell_type": "code",
   "execution_count": 5,
   "id": "5f1ba293-c4e1-4faf-9e40-eecd6eb2571e",
   "metadata": {
    "id": "5f1ba293-c4e1-4faf-9e40-eecd6eb2571e"
   },
   "outputs": [],
   "source": [
    "df_ods = pd.read_excel(ubi)"
   ]
  },
  {
   "cell_type": "code",
   "execution_count": 6,
   "id": "9256881b-33f8-4040-a123-685db369c0f2",
   "metadata": {
    "colab": {
     "base_uri": "https://localhost:8080/"
    },
    "id": "9256881b-33f8-4040-a123-685db369c0f2",
    "outputId": "8e29e886-3c13-4cc0-a9f2-d17bf9defd7e"
   },
   "outputs": [
    {
     "data": {
      "text/plain": [
       "(4049, 2)"
      ]
     },
     "execution_count": 6,
     "metadata": {},
     "output_type": "execute_result"
    }
   ],
   "source": [
    "df_ods.shape"
   ]
  },
  {
   "cell_type": "markdown",
   "id": "6a37d96b-7151-4c5c-9cdf-afdfe11ebd6f",
   "metadata": {
    "id": "6a37d96b-7151-4c5c-9cdf-afdfe11ebd6f"
   },
   "source": [
    "Se evidencion que hay 4049 opiniones sobre problematicas relacionadas con los ODS"
   ]
  },
  {
   "cell_type": "code",
   "execution_count": 8,
   "id": "d437bd63-1ded-4f53-8af3-860bf8bef225",
   "metadata": {
    "colab": {
     "base_uri": "https://localhost:8080/",
     "height": 206
    },
    "id": "d437bd63-1ded-4f53-8af3-860bf8bef225",
    "outputId": "b5056f6f-82aa-43c3-feda-1ef9d91fa9bb"
   },
   "outputs": [
    {
     "data": {
      "text/html": [
       "<div>\n",
       "<style scoped>\n",
       "    .dataframe tbody tr th:only-of-type {\n",
       "        vertical-align: middle;\n",
       "    }\n",
       "\n",
       "    .dataframe tbody tr th {\n",
       "        vertical-align: top;\n",
       "    }\n",
       "\n",
       "    .dataframe thead th {\n",
       "        text-align: right;\n",
       "    }\n",
       "</style>\n",
       "<table border=\"1\" class=\"dataframe\">\n",
       "  <thead>\n",
       "    <tr style=\"text-align: right;\">\n",
       "      <th></th>\n",
       "      <th>Textos_espanol</th>\n",
       "      <th>sdg</th>\n",
       "    </tr>\n",
       "  </thead>\n",
       "  <tbody>\n",
       "    <tr>\n",
       "      <th>3202</th>\n",
       "      <td>Por lo tanto, necesitan desarrollar fuertes ví...</td>\n",
       "      <td>4</td>\n",
       "    </tr>\n",
       "    <tr>\n",
       "      <th>2667</th>\n",
       "      <td>Prensa feminista, 2007), pág. 212. Comenzó a e...</td>\n",
       "      <td>5</td>\n",
       "    </tr>\n",
       "    <tr>\n",
       "      <th>1374</th>\n",
       "      <td>El maestro de preescolar, el maestro de primer...</td>\n",
       "      <td>4</td>\n",
       "    </tr>\n",
       "    <tr>\n",
       "      <th>1106</th>\n",
       "      <td>Aquellos que hablan un idioma europeo tienen p...</td>\n",
       "      <td>4</td>\n",
       "    </tr>\n",
       "    <tr>\n",
       "      <th>4022</th>\n",
       "      <td>Además, el plan no solo cubre al ejército cana...</td>\n",
       "      <td>5</td>\n",
       "    </tr>\n",
       "  </tbody>\n",
       "</table>\n",
       "</div>"
      ],
      "text/plain": [
       "                                         Textos_espanol  sdg\n",
       "3202  Por lo tanto, necesitan desarrollar fuertes ví...    4\n",
       "2667  Prensa feminista, 2007), pág. 212. Comenzó a e...    5\n",
       "1374  El maestro de preescolar, el maestro de primer...    4\n",
       "1106  Aquellos que hablan un idioma europeo tienen p...    4\n",
       "4022  Además, el plan no solo cubre al ejército cana...    5"
      ]
     },
     "execution_count": 8,
     "metadata": {},
     "output_type": "execute_result"
    }
   ],
   "source": [
    "df_ods.sample(5)"
   ]
  },
  {
   "cell_type": "markdown",
   "id": "3d9b09d0-4340-43c4-ae01-d2ab344d2ca4",
   "metadata": {
    "id": "3d9b09d0-4340-43c4-ae01-d2ab344d2ca4"
   },
   "source": [
    "La informacion cuenta con dos columnas, la primera Textos_espanol contiene el texto con la opinion del ciudadano, la segunda es el numero de ODS que le corresponde (columna que debemos predecir)"
   ]
  },
  {
   "cell_type": "code",
   "execution_count": 10,
   "id": "e10a1f96-56a5-490e-8312-57b53e107b0c",
   "metadata": {
    "colab": {
     "base_uri": "https://localhost:8080/",
     "height": 210
    },
    "id": "e10a1f96-56a5-490e-8312-57b53e107b0c",
    "outputId": "b4c17f3c-c6b6-4e74-c993-3215ae2addee"
   },
   "outputs": [
    {
     "data": {
      "text/plain": [
       "sdg\n",
       "5    1451\n",
       "4    1354\n",
       "3    1244\n",
       "Name: count, dtype: int64"
      ]
     },
     "execution_count": 10,
     "metadata": {},
     "output_type": "execute_result"
    }
   ],
   "source": [
    "df_ods['sdg'].value_counts()"
   ]
  },
  {
   "cell_type": "markdown",
   "id": "2d21c722-0ccc-4c96-94bf-17d047832c68",
   "metadata": {
    "id": "2d21c722-0ccc-4c96-94bf-17d047832c68"
   },
   "source": [
    "# Preparacion de datos"
   ]
  },
  {
   "cell_type": "markdown",
   "id": "b0caa41f-b738-4c13-9442-b307ba58fb47",
   "metadata": {
    "id": "b0caa41f-b738-4c13-9442-b307ba58fb47"
   },
   "source": [
    "Resolver problemas de codificacion"
   ]
  },
  {
   "cell_type": "code",
   "execution_count": 13,
   "id": "6e438cfb-478f-42db-87d7-75707bede95a",
   "metadata": {
    "colab": {
     "base_uri": "https://localhost:8080/",
     "height": 206
    },
    "id": "6e438cfb-478f-42db-87d7-75707bede95a",
    "outputId": "c509961f-207a-4c47-f422-80fb32db4cde"
   },
   "outputs": [
    {
     "data": {
      "text/html": [
       "<div>\n",
       "<style scoped>\n",
       "    .dataframe tbody tr th:only-of-type {\n",
       "        vertical-align: middle;\n",
       "    }\n",
       "\n",
       "    .dataframe tbody tr th {\n",
       "        vertical-align: top;\n",
       "    }\n",
       "\n",
       "    .dataframe thead th {\n",
       "        text-align: right;\n",
       "    }\n",
       "</style>\n",
       "<table border=\"1\" class=\"dataframe\">\n",
       "  <thead>\n",
       "    <tr style=\"text-align: right;\">\n",
       "      <th></th>\n",
       "      <th>Textos_espanol</th>\n",
       "      <th>sdg</th>\n",
       "    </tr>\n",
       "  </thead>\n",
       "  <tbody>\n",
       "    <tr>\n",
       "      <th>530</th>\n",
       "      <td>Las habilidades sociales son un determinante c...</td>\n",
       "      <td>3</td>\n",
       "    </tr>\n",
       "    <tr>\n",
       "      <th>847</th>\n",
       "      <td>En el Reino Unido, los ADE pueden representar ...</td>\n",
       "      <td>3</td>\n",
       "    </tr>\n",
       "    <tr>\n",
       "      <th>15</th>\n",
       "      <td>Estas estaciones cuentan con asistentes médico...</td>\n",
       "      <td>3</td>\n",
       "    </tr>\n",
       "    <tr>\n",
       "      <th>4037</th>\n",
       "      <td>A pesar de que las mujeres están en el mercado...</td>\n",
       "      <td>5</td>\n",
       "    </tr>\n",
       "    <tr>\n",
       "      <th>1229</th>\n",
       "      <td>Se consideró que el éxito de las reformas al p...</td>\n",
       "      <td>4</td>\n",
       "    </tr>\n",
       "  </tbody>\n",
       "</table>\n",
       "</div>"
      ],
      "text/plain": [
       "                                         Textos_espanol  sdg\n",
       "530   Las habilidades sociales son un determinante c...    3\n",
       "847   En el Reino Unido, los ADE pueden representar ...    3\n",
       "15    Estas estaciones cuentan con asistentes médico...    3\n",
       "4037  A pesar de que las mujeres están en el mercado...    5\n",
       "1229  Se consideró que el éxito de las reformas al p...    4"
      ]
     },
     "execution_count": 13,
     "metadata": {},
     "output_type": "execute_result"
    }
   ],
   "source": [
    "# mapa de uft a ansi\n",
    "utf8_to_ansi_map = {\n",
    "    'Ã¡': 'á', 'Ã©': 'é', 'Ã­': 'í', 'Ã³': 'ó', 'Ãº': 'ú',\n",
    "    'Ã±': 'ñ', 'ÃÁ': 'Á', 'Ã‰': 'É', 'ÃÍ': 'Í', 'ÃÓ': 'Ó',\n",
    "    'ÃÚ': 'Ú', 'Ã‘': 'Ñ', 'Â¿': '¿', 'Â¡': '¡'\n",
    "}\n",
    "\n",
    "# funcion para remplazar las malas codificaciones\n",
    "def replace_utf8_with_ansi(text):\n",
    "    for utf8_char, ansi_char in utf8_to_ansi_map.items():\n",
    "        text = text.replace(utf8_char, ansi_char)\n",
    "    return text\n",
    "\n",
    "df_manipulado = df_ods.copy()\n",
    "# aplicar codificacion\n",
    "df_manipulado['Textos_espanol'] = df_ods['Textos_espanol'].apply(replace_utf8_with_ansi)\n",
    "df_manipulado.sample(5)\n"
   ]
  },
  {
   "cell_type": "markdown",
   "id": "aEYLiEdrJ5kl",
   "metadata": {
    "id": "aEYLiEdrJ5kl"
   },
   "source": [
    "Verificamos y todos los textos se encuentran en español por lo tanto es importante tener una buena preparcion de datos con respecto a los caracteres especiales.  Se define un mapeo entre los caracteres UTF-8 mal interpretados y sus equivalentes en ANSI para hacer este proceso. Se extrae una muestra de 5 filas aleatorias del DataFrame df_manipulado para verificar cómo quedaron los textos después de la corrección"
   ]
  },
  {
   "cell_type": "markdown",
   "id": "2b78e39b-d835-4dff-8354-862ac3af170b",
   "metadata": {
    "id": "2b78e39b-d835-4dff-8354-862ac3af170b"
   },
   "source": [
    "Convertir en tokens"
   ]
  },
  {
   "cell_type": "code",
   "execution_count": 26,
   "id": "97b2d4d3-0c87-402e-a357-e865afae2c43",
   "metadata": {
    "colab": {
     "base_uri": "https://localhost:8080/",
     "height": 424
    },
    "id": "97b2d4d3-0c87-402e-a357-e865afae2c43",
    "outputId": "1ddcd378-c0d9-462b-a8ab-50a2ac50bf74"
   },
   "outputs": [
    {
     "data": {
      "text/html": [
       "<div>\n",
       "<style scoped>\n",
       "    .dataframe tbody tr th:only-of-type {\n",
       "        vertical-align: middle;\n",
       "    }\n",
       "\n",
       "    .dataframe tbody tr th {\n",
       "        vertical-align: top;\n",
       "    }\n",
       "\n",
       "    .dataframe thead th {\n",
       "        text-align: right;\n",
       "    }\n",
       "</style>\n",
       "<table border=\"1\" class=\"dataframe\">\n",
       "  <thead>\n",
       "    <tr style=\"text-align: right;\">\n",
       "      <th></th>\n",
       "      <th>Textos_espanol</th>\n",
       "      <th>sdg</th>\n",
       "      <th>processed_text</th>\n",
       "    </tr>\n",
       "  </thead>\n",
       "  <tbody>\n",
       "    <tr>\n",
       "      <th>1733</th>\n",
       "      <td>De hecho, se ha comprobado que la educación en...</td>\n",
       "      <td>4</td>\n",
       "      <td>hecho comprobado educación primera infancia fa...</td>\n",
       "    </tr>\n",
       "    <tr>\n",
       "      <th>9</th>\n",
       "      <td>En este sentido, es una forma eficaz de mejora...</td>\n",
       "      <td>3</td>\n",
       "      <td>forma eficaz mejorar eficacia calidad servicio...</td>\n",
       "    </tr>\n",
       "    <tr>\n",
       "      <th>3464</th>\n",
       "      <td>Las mujeres y las niñas deben tener el mismo a...</td>\n",
       "      <td>5</td>\n",
       "      <td>mujeres niñas deben tener mismo acceso servici...</td>\n",
       "    </tr>\n",
       "    <tr>\n",
       "      <th>3239</th>\n",
       "      <td>La OCDE está elaborando mejores datos sobre lo...</td>\n",
       "      <td>3</td>\n",
       "      <td>ocde elaborando mejores datos resultados asist...</td>\n",
       "    </tr>\n",
       "    <tr>\n",
       "      <th>1586</th>\n",
       "      <td>Esto podría implicar directrices para las escu...</td>\n",
       "      <td>4</td>\n",
       "      <td>podría implicar directrices escuelas celebraci...</td>\n",
       "    </tr>\n",
       "  </tbody>\n",
       "</table>\n",
       "</div>"
      ],
      "text/plain": [
       "                                         Textos_espanol  sdg  \\\n",
       "1733  De hecho, se ha comprobado que la educación en...    4   \n",
       "9     En este sentido, es una forma eficaz de mejora...    3   \n",
       "3464  Las mujeres y las niñas deben tener el mismo a...    5   \n",
       "3239  La OCDE está elaborando mejores datos sobre lo...    3   \n",
       "1586  Esto podría implicar directrices para las escu...    4   \n",
       "\n",
       "                                         processed_text  \n",
       "1733  hecho comprobado educación primera infancia fa...  \n",
       "9     forma eficaz mejorar eficacia calidad servicio...  \n",
       "3464  mujeres niñas deben tener mismo acceso servici...  \n",
       "3239  ocde elaborando mejores datos resultados asist...  \n",
       "1586  podría implicar directrices escuelas celebraci...  "
      ]
     },
     "execution_count": 26,
     "metadata": {},
     "output_type": "execute_result"
    }
   ],
   "source": [
    "def preprocess_text(text):\n",
    "    # poner en minusculas\n",
    "    text = text.lower()\n",
    "    # Tokenize the text\n",
    "    tokens = word_tokenize(text)\n",
    "    # remover puntuacion y stopwords\n",
    "    tokens = [word for word in tokens if word.isalnum() and word not in spanish_stop_words]\n",
    "    return ' '.join(tokens)\n",
    "\n",
    "spanish_stop_words = stopwords.words('spanish')\n",
    "\n",
    "df_manipulado['processed_text'] = df_manipulado['Textos_espanol'].apply(preprocess_text)\n",
    "df_manipulado.sample(5)"
   ]
  },
  {
   "cell_type": "markdown",
   "id": "uBqpwcWrLC7p",
   "metadata": {
    "id": "uBqpwcWrLC7p"
   },
   "source": [
    "El objetivo es normalizar los textos para futuros análisis, eliminando caracteres irrelevantes y facilitando el procesamiento natural del lenguaje (NLP).\n",
    "\n",
    "**Convertir a minúsculas (text.lower()):**\n",
    "\n",
    "Esta conversión uniformiza las palabras, eliminando la diferencia entre mayúsculas y minúsculas. Por ejemplo, \"Gobierno\" y \"gobierno\" serán tratadas como la misma palabra.\n",
    "\n",
    "\n",
    "**Tokenización (word_tokenize(text)):**\n",
    "\n",
    "La tokenización separa el texto en palabras o \"tokens\". Esto para poder evaluar las palabras invidualmente\n",
    "Ejemplo: \"El consumo anual de alcohol\" → [\"El\", \"consumo\", \"anual\", \"de\", \"alcohol\"].\n",
    "\n",
    "**Eliminar puntuación y palabras vacías:**\n",
    "\n",
    "Puntuación: Se eliminan tokens que no son alfanuméricos, como comas y puntos.\n",
    "Stopwords: Las palabras vacías (palabras comunes como \"de\", \"el\", \"y\") se eliminan. Esto es útil porque estas palabras no suelen agregar significado a los análisis de texto.\n",
    "\n",
    "\n",
    "**Unir los tokens (' '.join(tokens)):**\n",
    "\n",
    "Se reconstruye el texto a partir de los tokens filtrados. El resultado es un texto sin puntuación, palabras comunes, y con solo palabras relevantes para el análisis."
   ]
  },
  {
   "cell_type": "markdown",
   "id": "1e6c2d82-e8c3-4a03-a99a-177363051aba",
   "metadata": {
    "id": "1e6c2d82-e8c3-4a03-a99a-177363051aba"
   },
   "source": [
    "Lemalizacion"
   ]
  },
  {
   "cell_type": "code",
   "execution_count": 30,
   "id": "e026dd61-cdfb-4cc8-ac01-9b454150ea53",
   "metadata": {
    "id": "e026dd61-cdfb-4cc8-ac01-9b454150ea53"
   },
   "outputs": [],
   "source": [
    "#  transformar a vectores usando TF-IDF\n",
    "\n",
    "vectorizerRF = TfidfVectorizer()\n",
    "X = vectorizerRF.fit_transform(df_manipulado['processed_text'])\n",
    "y = df_ods['sdg']"
   ]
  },
  {
   "cell_type": "markdown",
   "id": "lsbC_mMpL-Fu",
   "metadata": {
    "id": "lsbC_mMpL-Fu"
   },
   "source": [
    "Convertimos cada texto en un vector numérico, donde cada entrada representa la relevancia de una palabra para ese texto en particular. Este vector será usado como entrada para el modelo de clasificación."
   ]
  },
  {
   "cell_type": "markdown",
   "id": "9b02f859-d760-4b1f-ac55-cb8b31e4d5b3",
   "metadata": {},
   "source": [
    "# Construccion del modelo"
   ]
  },
  {
   "cell_type": "markdown",
   "id": "7f40f71b-c564-4005-9914-ed82a5f4e322",
   "metadata": {},
   "source": [
    "## Random forest"
   ]
  },
  {
   "cell_type": "code",
   "execution_count": 35,
   "id": "46a4a3cb-3943-4f1e-b816-263c9a45d69a",
   "metadata": {
    "colab": {
     "base_uri": "https://localhost:8080/"
    },
    "id": "46a4a3cb-3943-4f1e-b816-263c9a45d69a",
    "outputId": "116bba64-9f61-4df5-ce4e-0ca98a105067"
   },
   "outputs": [
    {
     "name": "stdout",
     "output_type": "stream",
     "text": [
      "0.9703703703703703\n",
      "              precision    recall  f1-score   support\n",
      "\n",
      "       ODS 3     0.9762    0.9840    0.9801       250\n",
      "       ODS 4     0.9596    0.9739    0.9667       268\n",
      "       ODS 5     0.9755    0.9555    0.9654       292\n",
      "\n",
      "    accuracy                         0.9704       810\n",
      "   macro avg     0.9704    0.9711    0.9707       810\n",
      "weighted avg     0.9704    0.9704    0.9703       810\n",
      "\n"
     ]
    }
   ],
   "source": [
    "# Dividimos los datos en entrenamiento y prueba\n",
    "X_train, X_test, y_train, y_test = train_test_split(X, y, test_size=0.2, random_state=42)\n",
    "\n",
    "# Entrenamos el modelo Random Forest\n",
    "rf_model = RandomForestClassifier(n_estimators=100, random_state=42)\n",
    "rf_model.fit(X_train, y_train)\n",
    "\n",
    "# Hacemos predicciones\n",
    "y_pred = rf_model.predict(X_test)\n",
    "\n",
    "# Evaluamos el rendimiento del modelo\n",
    "accuracy = accuracy_score(y_test, y_pred)\n",
    "report = classification_report(y_test, y_pred, target_names=['ODS 3', 'ODS 4', 'ODS 5'], digits=4)\n",
    "print(accuracy)\n",
    "print(report)"
   ]
  },
  {
   "cell_type": "markdown",
   "id": "b54be741-3275-4c8d-92ec-8e898cfd02ff",
   "metadata": {},
   "source": [
    "# Procesamiento de datos TEST"
   ]
  },
  {
   "cell_type": "code",
   "execution_count": 38,
   "id": "d6af0c52-1755-4c90-afa9-af550e543014",
   "metadata": {},
   "outputs": [],
   "source": [
    "ubi_test = './data/TestODScat_345.xlsx'\n",
    "df_test = pd.read_excel(ubi_test)"
   ]
  },
  {
   "cell_type": "markdown",
   "id": "d2efb011-9c57-4354-9b0a-b84af2850987",
   "metadata": {},
   "source": [
    "Resolver problemas de codificacion"
   ]
  },
  {
   "cell_type": "code",
   "execution_count": 41,
   "id": "47474641-712c-4b50-b586-1e5ee5156e4f",
   "metadata": {},
   "outputs": [
    {
     "data": {
      "text/html": [
       "<div>\n",
       "<style scoped>\n",
       "    .dataframe tbody tr th:only-of-type {\n",
       "        vertical-align: middle;\n",
       "    }\n",
       "\n",
       "    .dataframe tbody tr th {\n",
       "        vertical-align: top;\n",
       "    }\n",
       "\n",
       "    .dataframe thead th {\n",
       "        text-align: right;\n",
       "    }\n",
       "</style>\n",
       "<table border=\"1\" class=\"dataframe\">\n",
       "  <thead>\n",
       "    <tr style=\"text-align: right;\">\n",
       "      <th></th>\n",
       "      <th>Textos_espanol</th>\n",
       "      <th>sdg</th>\n",
       "    </tr>\n",
       "  </thead>\n",
       "  <tbody>\n",
       "    <tr>\n",
       "      <th>443</th>\n",
       "      <td>Estos períodos coinciden con distintas fases e...</td>\n",
       "      <td>NaN</td>\n",
       "    </tr>\n",
       "    <tr>\n",
       "      <th>653</th>\n",
       "      <td>Los hombres tienen tres veces más probabilidad...</td>\n",
       "      <td>NaN</td>\n",
       "    </tr>\n",
       "    <tr>\n",
       "      <th>259</th>\n",
       "      <td>Garantizar la igualdad de oportunidades para t...</td>\n",
       "      <td>NaN</td>\n",
       "    </tr>\n",
       "    <tr>\n",
       "      <th>337</th>\n",
       "      <td>Además, el objetivo de la Ley es contrarrestar...</td>\n",
       "      <td>NaN</td>\n",
       "    </tr>\n",
       "    <tr>\n",
       "      <th>546</th>\n",
       "      <td>Hacer que los beneficios del registro sean más...</td>\n",
       "      <td>NaN</td>\n",
       "    </tr>\n",
       "  </tbody>\n",
       "</table>\n",
       "</div>"
      ],
      "text/plain": [
       "                                        Textos_espanol  sdg\n",
       "443  Estos períodos coinciden con distintas fases e...  NaN\n",
       "653  Los hombres tienen tres veces más probabilidad...  NaN\n",
       "259  Garantizar la igualdad de oportunidades para t...  NaN\n",
       "337  Además, el objetivo de la Ley es contrarrestar...  NaN\n",
       "546  Hacer que los beneficios del registro sean más...  NaN"
      ]
     },
     "execution_count": 41,
     "metadata": {},
     "output_type": "execute_result"
    }
   ],
   "source": [
    "df_test_manipulado = df_test.copy()\n",
    "df_test_manipulado['Textos_espanol'] = df_test['Textos_espanol'].apply(replace_utf8_with_ansi)\n",
    "df_test_manipulado.sample(5)"
   ]
  },
  {
   "cell_type": "markdown",
   "id": "4348848b-049c-4178-94a3-a893162e77e1",
   "metadata": {},
   "source": [
    "Tokenizado"
   ]
  },
  {
   "cell_type": "code",
   "execution_count": 44,
   "id": "6bd6c226-b74f-466d-ab78-46cd691f0e50",
   "metadata": {},
   "outputs": [],
   "source": [
    "df_test_manipulado['processed_text'] = df_test_manipulado['Textos_espanol'].apply(preprocess_text)"
   ]
  },
  {
   "cell_type": "markdown",
   "id": "891e893d-368a-4b26-b80c-87ff08a96a60",
   "metadata": {},
   "source": [
    "Crear vector"
   ]
  },
  {
   "cell_type": "code",
   "execution_count": 47,
   "id": "b58a09e8-ad19-4ad3-9700-f463a681790f",
   "metadata": {},
   "outputs": [],
   "source": [
    "X = vectorizerRF.transform(df_test_manipulado['processed_text'])"
   ]
  },
  {
   "cell_type": "code",
   "execution_count": 49,
   "id": "9de51b65-d957-4bbd-bb1f-858c9992ce4a",
   "metadata": {},
   "outputs": [
    {
     "data": {
      "text/html": [
       "<div>\n",
       "<style scoped>\n",
       "    .dataframe tbody tr th:only-of-type {\n",
       "        vertical-align: middle;\n",
       "    }\n",
       "\n",
       "    .dataframe tbody tr th {\n",
       "        vertical-align: top;\n",
       "    }\n",
       "\n",
       "    .dataframe thead th {\n",
       "        text-align: right;\n",
       "    }\n",
       "</style>\n",
       "<table border=\"1\" class=\"dataframe\">\n",
       "  <thead>\n",
       "    <tr style=\"text-align: right;\">\n",
       "      <th></th>\n",
       "      <th>Textos_espanol</th>\n",
       "      <th>sdg</th>\n",
       "    </tr>\n",
       "  </thead>\n",
       "  <tbody>\n",
       "    <tr>\n",
       "      <th>604</th>\n",
       "      <td>Los 290 municipios financian la atención a la ...</td>\n",
       "      <td>3</td>\n",
       "    </tr>\n",
       "    <tr>\n",
       "      <th>490</th>\n",
       "      <td>Este estudio es un excelente ejemplo de una me...</td>\n",
       "      <td>5</td>\n",
       "    </tr>\n",
       "    <tr>\n",
       "      <th>158</th>\n",
       "      <td>Su nivel educativo sería inferior a 3 años en ...</td>\n",
       "      <td>4</td>\n",
       "    </tr>\n",
       "    <tr>\n",
       "      <th>632</th>\n",
       "      <td>Aún así, persiste una limitación en la producc...</td>\n",
       "      <td>5</td>\n",
       "    </tr>\n",
       "    <tr>\n",
       "      <th>287</th>\n",
       "      <td>Con este fin, los países de la OCDE utilizan c...</td>\n",
       "      <td>5</td>\n",
       "    </tr>\n",
       "    <tr>\n",
       "      <th>192</th>\n",
       "      <td>La estrategia podría incorporar elementos impo...</td>\n",
       "      <td>5</td>\n",
       "    </tr>\n",
       "    <tr>\n",
       "      <th>197</th>\n",
       "      <td>Por lo tanto, aunque las causas estructurales ...</td>\n",
       "      <td>5</td>\n",
       "    </tr>\n",
       "    <tr>\n",
       "      <th>653</th>\n",
       "      <td>Los hombres tienen tres veces más probabilidad...</td>\n",
       "      <td>5</td>\n",
       "    </tr>\n",
       "    <tr>\n",
       "      <th>96</th>\n",
       "      <td>En la mayoría de los países, las políticas mon...</td>\n",
       "      <td>5</td>\n",
       "    </tr>\n",
       "    <tr>\n",
       "      <th>627</th>\n",
       "      <td>Sin embargo, se debe tener el mismo cuidado pa...</td>\n",
       "      <td>5</td>\n",
       "    </tr>\n",
       "    <tr>\n",
       "      <th>432</th>\n",
       "      <td>De hecho, la mayoría de las personas necesitan...</td>\n",
       "      <td>5</td>\n",
       "    </tr>\n",
       "    <tr>\n",
       "      <th>109</th>\n",
       "      <td>El índice está construido para ser comparable ...</td>\n",
       "      <td>4</td>\n",
       "    </tr>\n",
       "    <tr>\n",
       "      <th>341</th>\n",
       "      <td>Es más probable que la invocación de los derec...</td>\n",
       "      <td>5</td>\n",
       "    </tr>\n",
       "    <tr>\n",
       "      <th>387</th>\n",
       "      <td>Los alumnos noruegos de quinto grado, que fue ...</td>\n",
       "      <td>4</td>\n",
       "    </tr>\n",
       "    <tr>\n",
       "      <th>444</th>\n",
       "      <td>La prevalencia del tabaquismo es más del doble...</td>\n",
       "      <td>3</td>\n",
       "    </tr>\n",
       "    <tr>\n",
       "      <th>470</th>\n",
       "      <td>Mientras estas mujeres solicitaban y recibían ...</td>\n",
       "      <td>5</td>\n",
       "    </tr>\n",
       "    <tr>\n",
       "      <th>200</th>\n",
       "      <td>Entre otras cosas, considera cómo se distribuy...</td>\n",
       "      <td>4</td>\n",
       "    </tr>\n",
       "    <tr>\n",
       "      <th>388</th>\n",
       "      <td>Dentro del contexto más amplio de ese proyecto...</td>\n",
       "      <td>3</td>\n",
       "    </tr>\n",
       "    <tr>\n",
       "      <th>694</th>\n",
       "      <td>La naturaleza da descanso y un poco de comida....</td>\n",
       "      <td>5</td>\n",
       "    </tr>\n",
       "    <tr>\n",
       "      <th>476</th>\n",
       "      <td>Es importante documentar y utilizar estudios d...</td>\n",
       "      <td>5</td>\n",
       "    </tr>\n",
       "  </tbody>\n",
       "</table>\n",
       "</div>"
      ],
      "text/plain": [
       "                                        Textos_espanol  sdg\n",
       "604  Los 290 municipios financian la atención a la ...    3\n",
       "490  Este estudio es un excelente ejemplo de una me...    5\n",
       "158  Su nivel educativo sería inferior a 3 años en ...    4\n",
       "632  Aún así, persiste una limitación en la producc...    5\n",
       "287  Con este fin, los países de la OCDE utilizan c...    5\n",
       "192  La estrategia podría incorporar elementos impo...    5\n",
       "197  Por lo tanto, aunque las causas estructurales ...    5\n",
       "653  Los hombres tienen tres veces más probabilidad...    5\n",
       "96   En la mayoría de los países, las políticas mon...    5\n",
       "627  Sin embargo, se debe tener el mismo cuidado pa...    5\n",
       "432  De hecho, la mayoría de las personas necesitan...    5\n",
       "109  El índice está construido para ser comparable ...    4\n",
       "341  Es más probable que la invocación de los derec...    5\n",
       "387  Los alumnos noruegos de quinto grado, que fue ...    4\n",
       "444  La prevalencia del tabaquismo es más del doble...    3\n",
       "470  Mientras estas mujeres solicitaban y recibían ...    5\n",
       "200  Entre otras cosas, considera cómo se distribuy...    4\n",
       "388  Dentro del contexto más amplio de ese proyecto...    3\n",
       "694  La naturaleza da descanso y un poco de comida....    5\n",
       "476  Es importante documentar y utilizar estudios d...    5"
      ]
     },
     "execution_count": 49,
     "metadata": {},
     "output_type": "execute_result"
    }
   ],
   "source": [
    "y_pred = rf_model.predict(X)\n",
    "df_test[\"sdg\"] = y_pred\n",
    "df_test.sample(20)"
   ]
  },
  {
   "cell_type": "code",
   "execution_count": 51,
   "id": "11ea349a-7817-4f64-af32-cda7c6f710bd",
   "metadata": {},
   "outputs": [],
   "source": [
    "# guardar la informacion \n",
    "df_test.to_csv('./data/salida_test.csv', index=False)"
   ]
  },
  {
   "cell_type": "code",
   "execution_count": null,
   "id": "c7bedcfc-4ade-4363-bf3d-171c979168b1",
   "metadata": {},
   "outputs": [],
   "source": []
  }
 ],
 "metadata": {
  "colab": {
   "provenance": []
  },
  "kernelspec": {
   "display_name": "Python 3 (ipykernel)",
   "language": "python",
   "name": "python3"
  },
  "language_info": {
   "codemirror_mode": {
    "name": "ipython",
    "version": 3
   },
   "file_extension": ".py",
   "mimetype": "text/x-python",
   "name": "python",
   "nbconvert_exporter": "python",
   "pygments_lexer": "ipython3",
   "version": "3.12.2"
  }
 },
 "nbformat": 4,
 "nbformat_minor": 5
}
