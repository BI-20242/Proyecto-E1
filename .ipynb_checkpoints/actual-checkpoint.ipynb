{
 "cells": [
  {
   "cell_type": "markdown",
   "id": "d61fae40-50e7-4c0e-bc6a-97532dc643a2",
   "metadata": {
    "id": "d61fae40-50e7-4c0e-bc6a-97532dc643a2"
   },
   "source": [
    "# Carga de datos"
   ]
  },
  {
   "cell_type": "code",
   "execution_count": 2,
   "id": "X-Xka2iV2xp8",
   "metadata": {
    "colab": {
     "base_uri": "https://localhost:8080/"
    },
    "id": "X-Xka2iV2xp8",
    "outputId": "0ed7e5f4-e0d5-4beb-edeb-cd922be804a8"
   },
   "outputs": [
    {
     "name": "stdout",
     "output_type": "stream",
     "text": [
      "Requirement already satisfied: unidecode in /home/sergon/anaconda3/lib/python3.12/site-packages (1.2.0)\n",
      "Requirement already satisfied: nltk in /home/sergon/anaconda3/lib/python3.12/site-packages (3.8.1)\n",
      "Requirement already satisfied: click in /home/sergon/anaconda3/lib/python3.12/site-packages (from nltk) (8.1.7)\n",
      "Requirement already satisfied: joblib in /home/sergon/anaconda3/lib/python3.12/site-packages (from nltk) (1.1.1)\n",
      "Requirement already satisfied: regex>=2021.8.3 in /home/sergon/anaconda3/lib/python3.12/site-packages (from nltk) (2023.10.3)\n",
      "Requirement already satisfied: tqdm in /home/sergon/anaconda3/lib/python3.12/site-packages (from nltk) (4.66.4)\n"
     ]
    },
    {
     "name": "stderr",
     "output_type": "stream",
     "text": [
      "[nltk_data] Downloading package stopwords to /home/sergon/nltk_data...\n",
      "[nltk_data]   Package stopwords is already up-to-date!\n",
      "[nltk_data] Downloading package punkt to /home/sergon/nltk_data...\n",
      "[nltk_data]   Package punkt is already up-to-date!\n",
      "[nltk_data] Downloading package wordnet to /home/sergon/nltk_data...\n",
      "[nltk_data]   Package wordnet is already up-to-date!\n"
     ]
    },
    {
     "data": {
      "text/plain": [
       "True"
      ]
     },
     "execution_count": 2,
     "metadata": {},
     "output_type": "execute_result"
    }
   ],
   "source": [
    "!pip install unidecode\n",
    "!pip install nltk\n",
    "import nltk\n",
    "nltk.download('stopwords')\n",
    "nltk.download('punkt')\n",
    "nltk.download('wordnet')\n"
   ]
  },
  {
   "cell_type": "code",
   "execution_count": 3,
   "id": "1ab8f7b4-839d-41d3-aaaa-d4f2aad5fb1a",
   "metadata": {
    "id": "1ab8f7b4-839d-41d3-aaaa-d4f2aad5fb1a"
   },
   "outputs": [],
   "source": [
    "# Librerías para manejo de datos\n",
    "import numpy as np\n",
    "np.random.seed(3301)\n",
    "import pickle\n",
    "from sklearn.preprocessing import FunctionTransformer\n",
    "import pandas as pd\n",
    "pd.set_option('display.max_columns', 25) # Número máximo de columnas a mostrar\n",
    "pd.set_option('display.max_rows', 50) # Numero máximo de filas a mostar\n",
    "import pandas as pd\n",
    "# Para preparar los datos\n",
    "from sklearn.preprocessing import LabelEncoder\n",
    "# Para crear el arbol de decisión\n",
    "from sklearn.tree import DecisionTreeClassifier\n",
    "# Para usar KNN como clasificador\n",
    "from sklearn.neighbors import KNeighborsClassifier\n",
    "# Para realizar la separación del conjunto de aprendizaje en entrenamiento y test.\n",
    "from sklearn.model_selection import train_test_split\n",
    "# Para evaluar el modelo\n",
    "#from sklearn.metrics import confusion_matrix, classification_report, precision_score, recall_score, f1_score, accuracy_score\n",
    "#from sklearn.metrics import plot_confusion_matrix\n",
    "# Para búsqueda de hiperparámetros\n",
    "from sklearn.model_selection import GridSearchCV\n",
    "# Para la validación cruzada\n",
    "from sklearn.model_selection import KFold\n",
    "#Librerías para la visualización\n",
    "import matplotlib.pyplot as plt\n",
    "# Seaborn\n",
    "import seaborn as sns\n",
    "from sklearn import tree\n",
    "from sklearn.feature_extraction.text import CountVectorizer\n",
    "\n",
    "from sklearn.feature_extraction import text\n",
    "from nltk.corpus import stopwords\n",
    "from wordcloud import WordCloud\n",
    "import unidecode\n",
    "from nltk.tokenize import word_tokenize\n",
    "from nltk.stem import WordNetLemmatizer\n",
    "from sklearn.feature_extraction.text import TfidfVectorizer\n",
    "from sklearn.ensemble import RandomForestClassifier\n",
    "from sklearn.metrics import classification_report, accuracy_score, confusion_matrix\n",
    "import spacy\n",
    "from sklearn.pipeline import Pipeline\n",
    "#import joblib\n",
    "#from sklearn.base import BaseEstimator, TransformerMixin"
   ]
  },
  {
   "cell_type": "code",
   "execution_count": 4,
   "id": "ec856570-1a86-4152-8d1e-030078047a73",
   "metadata": {
    "id": "ec856570-1a86-4152-8d1e-030078047a73"
   },
   "outputs": [],
   "source": [
    "ubi = './data/ODScat_345.xlsx'"
   ]
  },
  {
   "cell_type": "code",
   "execution_count": 5,
   "id": "5f1ba293-c4e1-4faf-9e40-eecd6eb2571e",
   "metadata": {
    "id": "5f1ba293-c4e1-4faf-9e40-eecd6eb2571e"
   },
   "outputs": [],
   "source": [
    "df_ods = pd.read_excel(ubi)"
   ]
  },
  {
   "cell_type": "code",
   "execution_count": 6,
   "id": "9256881b-33f8-4040-a123-685db369c0f2",
   "metadata": {
    "colab": {
     "base_uri": "https://localhost:8080/"
    },
    "id": "9256881b-33f8-4040-a123-685db369c0f2",
    "outputId": "8e29e886-3c13-4cc0-a9f2-d17bf9defd7e"
   },
   "outputs": [
    {
     "data": {
      "text/plain": [
       "(4049, 2)"
      ]
     },
     "execution_count": 6,
     "metadata": {},
     "output_type": "execute_result"
    }
   ],
   "source": [
    "df_ods.shape"
   ]
  },
  {
   "cell_type": "markdown",
   "id": "6a37d96b-7151-4c5c-9cdf-afdfe11ebd6f",
   "metadata": {
    "id": "6a37d96b-7151-4c5c-9cdf-afdfe11ebd6f"
   },
   "source": [
    "Se evidencion que hay 4049 opiniones sobre problematicas relacionadas con los ODS"
   ]
  },
  {
   "cell_type": "code",
   "execution_count": 8,
   "id": "d437bd63-1ded-4f53-8af3-860bf8bef225",
   "metadata": {
    "colab": {
     "base_uri": "https://localhost:8080/",
     "height": 206
    },
    "id": "d437bd63-1ded-4f53-8af3-860bf8bef225",
    "outputId": "b5056f6f-82aa-43c3-feda-1ef9d91fa9bb"
   },
   "outputs": [
    {
     "data": {
      "text/html": [
       "<div>\n",
       "<style scoped>\n",
       "    .dataframe tbody tr th:only-of-type {\n",
       "        vertical-align: middle;\n",
       "    }\n",
       "\n",
       "    .dataframe tbody tr th {\n",
       "        vertical-align: top;\n",
       "    }\n",
       "\n",
       "    .dataframe thead th {\n",
       "        text-align: right;\n",
       "    }\n",
       "</style>\n",
       "<table border=\"1\" class=\"dataframe\">\n",
       "  <thead>\n",
       "    <tr style=\"text-align: right;\">\n",
       "      <th></th>\n",
       "      <th>Textos_espanol</th>\n",
       "      <th>sdg</th>\n",
       "    </tr>\n",
       "  </thead>\n",
       "  <tbody>\n",
       "    <tr>\n",
       "      <th>3202</th>\n",
       "      <td>Por lo tanto, necesitan desarrollar fuertes ví...</td>\n",
       "      <td>4</td>\n",
       "    </tr>\n",
       "    <tr>\n",
       "      <th>2667</th>\n",
       "      <td>Prensa feminista, 2007), pág. 212. Comenzó a e...</td>\n",
       "      <td>5</td>\n",
       "    </tr>\n",
       "    <tr>\n",
       "      <th>1374</th>\n",
       "      <td>El maestro de preescolar, el maestro de primer...</td>\n",
       "      <td>4</td>\n",
       "    </tr>\n",
       "    <tr>\n",
       "      <th>1106</th>\n",
       "      <td>Aquellos que hablan un idioma europeo tienen p...</td>\n",
       "      <td>4</td>\n",
       "    </tr>\n",
       "    <tr>\n",
       "      <th>4022</th>\n",
       "      <td>Además, el plan no solo cubre al ejército cana...</td>\n",
       "      <td>5</td>\n",
       "    </tr>\n",
       "  </tbody>\n",
       "</table>\n",
       "</div>"
      ],
      "text/plain": [
       "                                         Textos_espanol  sdg\n",
       "3202  Por lo tanto, necesitan desarrollar fuertes ví...    4\n",
       "2667  Prensa feminista, 2007), pág. 212. Comenzó a e...    5\n",
       "1374  El maestro de preescolar, el maestro de primer...    4\n",
       "1106  Aquellos que hablan un idioma europeo tienen p...    4\n",
       "4022  Además, el plan no solo cubre al ejército cana...    5"
      ]
     },
     "execution_count": 8,
     "metadata": {},
     "output_type": "execute_result"
    }
   ],
   "source": [
    "df_ods.sample(5)"
   ]
  },
  {
   "cell_type": "markdown",
   "id": "3d9b09d0-4340-43c4-ae01-d2ab344d2ca4",
   "metadata": {
    "id": "3d9b09d0-4340-43c4-ae01-d2ab344d2ca4"
   },
   "source": [
    "La informacion cuenta con dos columnas, la primera Textos_espanol contiene el texto con la opinion del ciudadano, la segunda es el numero de ODS que le corresponde (columna que debemos predecir)"
   ]
  },
  {
   "cell_type": "code",
   "execution_count": 10,
   "id": "e10a1f96-56a5-490e-8312-57b53e107b0c",
   "metadata": {
    "colab": {
     "base_uri": "https://localhost:8080/",
     "height": 210
    },
    "id": "e10a1f96-56a5-490e-8312-57b53e107b0c",
    "outputId": "b4c17f3c-c6b6-4e74-c993-3215ae2addee"
   },
   "outputs": [
    {
     "data": {
      "text/plain": [
       "sdg\n",
       "5    1451\n",
       "4    1354\n",
       "3    1244\n",
       "Name: count, dtype: int64"
      ]
     },
     "execution_count": 10,
     "metadata": {},
     "output_type": "execute_result"
    }
   ],
   "source": [
    "df_ods['sdg'].value_counts()"
   ]
  },
  {
   "cell_type": "markdown",
   "id": "2d21c722-0ccc-4c96-94bf-17d047832c68",
   "metadata": {
    "id": "2d21c722-0ccc-4c96-94bf-17d047832c68"
   },
   "source": [
    "# Preparacion de datos"
   ]
  },
  {
   "cell_type": "markdown",
   "id": "b0caa41f-b738-4c13-9442-b307ba58fb47",
   "metadata": {
    "id": "b0caa41f-b738-4c13-9442-b307ba58fb47"
   },
   "source": [
    "Resolver problemas de codificacion"
   ]
  },
  {
   "cell_type": "code",
   "execution_count": 13,
   "id": "6e438cfb-478f-42db-87d7-75707bede95a",
   "metadata": {
    "colab": {
     "base_uri": "https://localhost:8080/",
     "height": 206
    },
    "id": "6e438cfb-478f-42db-87d7-75707bede95a",
    "outputId": "c509961f-207a-4c47-f422-80fb32db4cde"
   },
   "outputs": [],
   "source": [
    "# Mapeo de caracteres UTF-8 mal interpretados a ANSI\n",
    "utf8_to_ansi_map = {\n",
    "    'Ã¡': 'á', 'Ã©': 'é', 'Ã­': 'í', 'Ã³': 'ó', 'Ãº': 'ú',\n",
    "    'Ã±': 'ñ', 'ÃÁ': 'Á', 'Ã‰': 'É', 'ÃÍ': 'Í', 'ÃÓ': 'Ó',\n",
    "    'ÃÚ': 'Ú', 'Ã‘': 'Ñ', 'Â¿': '¿', 'Â¡': '¡'\n",
    "}\n",
    "\n",
    "\n",
    "# Función de preprocesamiento de texto\n",
    "def preprocess_text(text_series):\n",
    "    spanish_stop_words = set(stopwords.words('spanish'))\n",
    "    \n",
    "    def replace_utf8_with_ansi(text):\n",
    "        for utf8_char, ansi_char in utf8_to_ansi_map.items():\n",
    "            text = text.replace(utf8_char, ansi_char)\n",
    "        return text\n",
    "    \n",
    "    def clean_text(text):\n",
    "        # Reemplazar caracteres UTF-8 mal interpretados\n",
    "        #text = replace_utf8_with_ansi(text)\n",
    "        # Convertir a minúsculas\n",
    "        text = text.lower()\n",
    "        # Tokenizar y eliminar puntuación y stopwords\n",
    "        tokens = word_tokenize(text)\n",
    "        tokens = [word for word in tokens if word.isalnum() and word not in spanish_stop_words]\n",
    "        return ' '.join(tokens)\n",
    "\n",
    "    # Aplicar el preprocesamiento completo\n",
    "    return text_series.apply(clean_text)\n",
    "\n"
   ]
  },
  {
   "cell_type": "markdown",
   "id": "aEYLiEdrJ5kl",
   "metadata": {
    "id": "aEYLiEdrJ5kl"
   },
   "source": [
    "Verificamos y todos los textos se encuentran en español por lo tanto es importante tener una buena preparcion de datos con respecto a los caracteres especiales.  Se define un mapeo entre los caracteres UTF-8 mal interpretados y sus equivalentes en ANSI para hacer este proceso. Se extrae una muestra de 5 filas aleatorias del DataFrame df_manipulado para verificar cómo quedaron los textos después de la corrección"
   ]
  },
  {
   "cell_type": "markdown",
   "id": "2b78e39b-d835-4dff-8354-862ac3af170b",
   "metadata": {
    "id": "2b78e39b-d835-4dff-8354-862ac3af170b"
   },
   "source": [
    "Convertir en tokens"
   ]
  },
  {
   "cell_type": "markdown",
   "id": "uBqpwcWrLC7p",
   "metadata": {
    "id": "uBqpwcWrLC7p"
   },
   "source": [
    "El objetivo es normalizar los textos para futuros análisis, eliminando caracteres irrelevantes y facilitando el procesamiento natural del lenguaje (NLP).\n",
    "\n",
    "**Convertir a minúsculas (text.lower()):**\n",
    "\n",
    "Esta conversión uniformiza las palabras, eliminando la diferencia entre mayúsculas y minúsculas. Por ejemplo, \"Gobierno\" y \"gobierno\" serán tratadas como la misma palabra.\n",
    "\n",
    "\n",
    "**Tokenización (word_tokenize(text)):**\n",
    "\n",
    "La tokenización separa el texto en palabras o \"tokens\". Esto para poder evaluar las palabras invidualmente\n",
    "Ejemplo: \"El consumo anual de alcohol\" → [\"El\", \"consumo\", \"anual\", \"de\", \"alcohol\"].\n",
    "\n",
    "**Eliminar puntuación y palabras vacías:**\n",
    "\n",
    "Puntuación: Se eliminan tokens que no son alfanuméricos, como comas y puntos.\n",
    "Stopwords: Las palabras vacías (palabras comunes como \"de\", \"el\", \"y\") se eliminan. Esto es útil porque estas palabras no suelen agregar significado a los análisis de texto.\n",
    "\n",
    "\n",
    "**Unir los tokens (' '.join(tokens)):**\n",
    "\n",
    "Se reconstruye el texto a partir de los tokens filtrados. El resultado es un texto sin puntuación, palabras comunes, y con solo palabras relevantes para el análisis."
   ]
  },
  {
   "cell_type": "markdown",
   "id": "lsbC_mMpL-Fu",
   "metadata": {
    "id": "lsbC_mMpL-Fu"
   },
   "source": [
    "Convertimos cada texto en un vector numérico, donde cada entrada representa la relevancia de una palabra para ese texto en particular. Este vector será usado como entrada para el modelo de clasificación."
   ]
  },
  {
   "cell_type": "markdown",
   "id": "9b02f859-d760-4b1f-ac55-cb8b31e4d5b3",
   "metadata": {},
   "source": [
    "# Construccion del modelo"
   ]
  },
  {
   "cell_type": "code",
   "execution_count": 19,
   "id": "d43a813e-b5ab-4a09-a4e2-86df14e7a213",
   "metadata": {},
   "outputs": [],
   "source": [
    "preprocessor = FunctionTransformer(preprocess_text, validate=False)\n",
    "# Crear el pipeline completo\n",
    "pipeline2 = Pipeline([\n",
    "    ('preprocessing', preprocessor), #('preprocessing', TextPreprocessor(utf8_to_ansi_map, stop_words=stopwords.words('spanish'))),\n",
    "    ('tfidf', TfidfVectorizer()),\n",
    "    ('rf', RandomForestClassifier(n_estimators=100, random_state=42)),\n",
    "])\n",
    "\n",
    "pipeline = Pipeline([\n",
    "    ('tfidf', TfidfVectorizer(\n",
    "        lowercase=True,          # Convertir el texto a minúsculas automáticamente\n",
    "        stop_words=stopwords.words('spanish'),    # Eliminar las stopwords en español (disponible en scikit-learn)\n",
    "        #token_pattern=r'\\b\\w+\\b' # Tokenización basada en palabras alfanuméricas\n",
    "    )),\n",
    "    ('rf', RandomForestClassifier(n_estimators=100, random_state=42)),  # Clasificador Random Forest\n",
    "])\n",
    "\n",
    "df_manipulado = df_ods.copy()\n",
    "\n",
    "# Separar las variables\n",
    "X = df_manipulado['Textos_espanol']  # Columna de texto\n",
    "y = df_manipulado['sdg']  # Columna objetivo"
   ]
  },
  {
   "cell_type": "markdown",
   "id": "7f40f71b-c564-4005-9914-ed82a5f4e322",
   "metadata": {},
   "source": [
    "## Random forest"
   ]
  },
  {
   "cell_type": "code",
   "execution_count": 21,
   "id": "46a4a3cb-3943-4f1e-b816-263c9a45d69a",
   "metadata": {
    "colab": {
     "base_uri": "https://localhost:8080/"
    },
    "id": "46a4a3cb-3943-4f1e-b816-263c9a45d69a",
    "outputId": "116bba64-9f61-4df5-ce4e-0ca98a105067"
   },
   "outputs": [
    {
     "name": "stdout",
     "output_type": "stream",
     "text": [
      "0.9679012345679012\n",
      "              precision    recall  f1-score   support\n",
      "\n",
      "       ODS 3     0.9537    0.9880    0.9705       250\n",
      "       ODS 4     0.9665    0.9701    0.9683       268\n",
      "       ODS 5     0.9823    0.9486    0.9652       292\n",
      "\n",
      "    accuracy                         0.9679       810\n",
      "   macro avg     0.9675    0.9689    0.9680       810\n",
      "weighted avg     0.9682    0.9679    0.9679       810\n",
      "\n"
     ]
    }
   ],
   "source": [
    "# Dividimos los datos en entrenamiento y prueba\n",
    "X_train, X_test, y_train, y_test = train_test_split(X, y, test_size=0.2, random_state=42)\n",
    "\n",
    "pipeline.fit(X_train, y_train)\n",
    "\n",
    "\n",
    "# Predicciones y evaluación\n",
    "y_pred = pipeline.predict(X_test)\n",
    "accuracy = accuracy_score(y_test, y_pred)\n",
    "\n",
    "# Evaluamos el rendimiento del modelo\n",
    "accuracy = accuracy_score(y_test, y_pred)\n",
    "report = classification_report(y_test, y_pred, target_names=['ODS 3', 'ODS 4', 'ODS 5'], digits=4)\n",
    "print(accuracy)\n",
    "print(report)"
   ]
  },
  {
   "cell_type": "code",
   "execution_count": 22,
   "id": "265e6de0-067f-4f78-8d79-b07802e85690",
   "metadata": {},
   "outputs": [],
   "source": [
    "with open('random_forest_pipeline.pkl', 'wb') as file:\n",
    "    pickle.dump(pipeline, file)"
   ]
  },
  {
   "cell_type": "markdown",
   "id": "b54be741-3275-4c8d-92ec-8e898cfd02ff",
   "metadata": {},
   "source": [
    "# Procesamiento de datos TEST"
   ]
  },
  {
   "cell_type": "code",
   "execution_count": 24,
   "id": "d6af0c52-1755-4c90-afa9-af550e543014",
   "metadata": {},
   "outputs": [],
   "source": [
    "ubi_test = './data/TestODScat_345.xlsx'\n",
    "df_test = pd.read_excel(ubi_test)"
   ]
  },
  {
   "cell_type": "markdown",
   "id": "d2efb011-9c57-4354-9b0a-b84af2850987",
   "metadata": {},
   "source": [
    "Resolver problemas de codificacion"
   ]
  },
  {
   "cell_type": "code",
   "execution_count": 26,
   "id": "47474641-712c-4b50-b586-1e5ee5156e4f",
   "metadata": {},
   "outputs": [],
   "source": [
    "df_test_manipulado = df_test.copy()"
   ]
  },
  {
   "cell_type": "code",
   "execution_count": 27,
   "id": "9de51b65-d957-4bbd-bb1f-858c9992ce4a",
   "metadata": {},
   "outputs": [
    {
     "data": {
      "text/html": [
       "<div>\n",
       "<style scoped>\n",
       "    .dataframe tbody tr th:only-of-type {\n",
       "        vertical-align: middle;\n",
       "    }\n",
       "\n",
       "    .dataframe tbody tr th {\n",
       "        vertical-align: top;\n",
       "    }\n",
       "\n",
       "    .dataframe thead th {\n",
       "        text-align: right;\n",
       "    }\n",
       "</style>\n",
       "<table border=\"1\" class=\"dataframe\">\n",
       "  <thead>\n",
       "    <tr style=\"text-align: right;\">\n",
       "      <th></th>\n",
       "      <th>Textos_espanol</th>\n",
       "      <th>sdg</th>\n",
       "    </tr>\n",
       "  </thead>\n",
       "  <tbody>\n",
       "    <tr>\n",
       "      <th>399</th>\n",
       "      <td>La propagación del VIH/SIDA invierte ese proce...</td>\n",
       "      <td>3</td>\n",
       "    </tr>\n",
       "    <tr>\n",
       "      <th>496</th>\n",
       "      <td>Si bien existen variaciones entre los países e...</td>\n",
       "      <td>5</td>\n",
       "    </tr>\n",
       "    <tr>\n",
       "      <th>244</th>\n",
       "      <td>En realidad, los defensores de estos puntos de...</td>\n",
       "      <td>5</td>\n",
       "    </tr>\n",
       "    <tr>\n",
       "      <th>29</th>\n",
       "      <td>Algunos municipios también han introducido pol...</td>\n",
       "      <td>4</td>\n",
       "    </tr>\n",
       "    <tr>\n",
       "      <th>15</th>\n",
       "      <td>Incluso en los países de la OCDE considerados ...</td>\n",
       "      <td>3</td>\n",
       "    </tr>\n",
       "    <tr>\n",
       "      <th>495</th>\n",
       "      <td>Sin embargo, se pueden ver signos alentadores ...</td>\n",
       "      <td>3</td>\n",
       "    </tr>\n",
       "    <tr>\n",
       "      <th>639</th>\n",
       "      <td>Las mujeres con solo escolaridad obligatoria t...</td>\n",
       "      <td>5</td>\n",
       "    </tr>\n",
       "    <tr>\n",
       "      <th>560</th>\n",
       "      <td>Se informan a nivel de escuela, se comparan co...</td>\n",
       "      <td>4</td>\n",
       "    </tr>\n",
       "    <tr>\n",
       "      <th>568</th>\n",
       "      <td>Las reformas laborales, la legislación para co...</td>\n",
       "      <td>5</td>\n",
       "    </tr>\n",
       "    <tr>\n",
       "      <th>6</th>\n",
       "      <td>A diferencia de los acuerdos anteriores, la nu...</td>\n",
       "      <td>4</td>\n",
       "    </tr>\n",
       "    <tr>\n",
       "      <th>129</th>\n",
       "      <td>No está claro en qué marco de tiempo se supera...</td>\n",
       "      <td>3</td>\n",
       "    </tr>\n",
       "    <tr>\n",
       "      <th>361</th>\n",
       "      <td>También tienen altas tasas de analfabetismo: e...</td>\n",
       "      <td>4</td>\n",
       "    </tr>\n",
       "    <tr>\n",
       "      <th>423</th>\n",
       "      <td>Sin embargo, muchas mujeres pueden cambiar a u...</td>\n",
       "      <td>5</td>\n",
       "    </tr>\n",
       "    <tr>\n",
       "      <th>92</th>\n",
       "      <td>El desempeño de los estudiantes comenzó a caer...</td>\n",
       "      <td>4</td>\n",
       "    </tr>\n",
       "    <tr>\n",
       "      <th>173</th>\n",
       "      <td>En programas exitosos, los maestros mentores b...</td>\n",
       "      <td>4</td>\n",
       "    </tr>\n",
       "    <tr>\n",
       "      <th>526</th>\n",
       "      <td>Por ejemplo, la brecha de género generalizada ...</td>\n",
       "      <td>5</td>\n",
       "    </tr>\n",
       "    <tr>\n",
       "      <th>618</th>\n",
       "      <td>De manera similar, entre los bebedores no 'dañ...</td>\n",
       "      <td>5</td>\n",
       "    </tr>\n",
       "    <tr>\n",
       "      <th>34</th>\n",
       "      <td>El sistema inglés de atención a la salud menta...</td>\n",
       "      <td>3</td>\n",
       "    </tr>\n",
       "    <tr>\n",
       "      <th>607</th>\n",
       "      <td>Sin embargo, hay más que el país puede hacer p...</td>\n",
       "      <td>4</td>\n",
       "    </tr>\n",
       "    <tr>\n",
       "      <th>561</th>\n",
       "      <td>La flexibilidad de las garantías es un element...</td>\n",
       "      <td>5</td>\n",
       "    </tr>\n",
       "  </tbody>\n",
       "</table>\n",
       "</div>"
      ],
      "text/plain": [
       "                                        Textos_espanol  sdg\n",
       "399  La propagación del VIH/SIDA invierte ese proce...    3\n",
       "496  Si bien existen variaciones entre los países e...    5\n",
       "244  En realidad, los defensores de estos puntos de...    5\n",
       "29   Algunos municipios también han introducido pol...    4\n",
       "15   Incluso en los países de la OCDE considerados ...    3\n",
       "495  Sin embargo, se pueden ver signos alentadores ...    3\n",
       "639  Las mujeres con solo escolaridad obligatoria t...    5\n",
       "560  Se informan a nivel de escuela, se comparan co...    4\n",
       "568  Las reformas laborales, la legislación para co...    5\n",
       "6    A diferencia de los acuerdos anteriores, la nu...    4\n",
       "129  No está claro en qué marco de tiempo se supera...    3\n",
       "361  También tienen altas tasas de analfabetismo: e...    4\n",
       "423  Sin embargo, muchas mujeres pueden cambiar a u...    5\n",
       "92   El desempeño de los estudiantes comenzó a caer...    4\n",
       "173  En programas exitosos, los maestros mentores b...    4\n",
       "526  Por ejemplo, la brecha de género generalizada ...    5\n",
       "618  De manera similar, entre los bebedores no 'dañ...    5\n",
       "34   El sistema inglés de atención a la salud menta...    3\n",
       "607  Sin embargo, hay más que el país puede hacer p...    4\n",
       "561  La flexibilidad de las garantías es un element...    5"
      ]
     },
     "execution_count": 27,
     "metadata": {},
     "output_type": "execute_result"
    }
   ],
   "source": [
    "y_pred = pipeline.predict(df_test_manipulado['Textos_espanol'])\n",
    "df_test[\"sdg\"] = y_pred\n",
    "df_test.sample(20)"
   ]
  },
  {
   "cell_type": "code",
   "execution_count": 28,
   "id": "c7bedcfc-4ade-4363-bf3d-171c979168b1",
   "metadata": {},
   "outputs": [
    {
     "data": {
      "text/plain": [
       "sdg\n",
       "4    265\n",
       "5    250\n",
       "3    187\n",
       "Name: count, dtype: int64"
      ]
     },
     "execution_count": 28,
     "metadata": {},
     "output_type": "execute_result"
    }
   ],
   "source": [
    "df_test[\"sdg\"].value_counts()"
   ]
  }
 ],
 "metadata": {
  "colab": {
   "provenance": []
  },
  "kernelspec": {
   "display_name": "Python 3 (ipykernel)",
   "language": "python",
   "name": "python3"
  },
  "language_info": {
   "codemirror_mode": {
    "name": "ipython",
    "version": 3
   },
   "file_extension": ".py",
   "mimetype": "text/x-python",
   "name": "python",
   "nbconvert_exporter": "python",
   "pygments_lexer": "ipython3",
   "version": "3.12.2"
  }
 },
 "nbformat": 4,
 "nbformat_minor": 5
}
